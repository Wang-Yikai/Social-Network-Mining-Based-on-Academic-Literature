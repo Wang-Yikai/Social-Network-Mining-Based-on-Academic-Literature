{
 "cells": [
  {
   "cell_type": "code",
   "execution_count": 3,
   "metadata": {},
   "outputs": [],
   "source": [
    "import json\n",
    "import string\n",
    "import numpy as np\n",
    "\n",
    "punc = string.punctuation"
   ]
  },
  {
   "cell_type": "code",
   "execution_count": 8,
   "metadata": {},
   "outputs": [],
   "source": [
    "result_dic = {}\n",
    "word_dic = load_word2vec(dim)\n",
    "# set the dim\n",
    "dim = 100\n",
    "with open('/Users/zhengwei/Desktop/lesson6/社交网络挖掘/dataset/dblp-ref-0.json', 'r') as f:\n",
    "    line = f.readline()\n",
    "    temp_vec = np.zeros(dim)\n",
    "    while line:        \n",
    "        line = json.loads(line)\n",
    "        if 'abstract' in line:\n",
    "            abstract_ = line['abstract'].split(' ')\n",
    "            length = len(abstract_)\n",
    "            for item in abstract_:\n",
    "                if item == '':\n",
    "                    continue\n",
    "                if item[0] in punc:\n",
    "                    item = item[1:]\n",
    "#                 if item == '':\n",
    "#                     print(abstract_)\n",
    "                if item == '':\n",
    "                    continue\n",
    "                if item[-1] in punc:\n",
    "                    item = item[:-1]\n",
    "\n",
    "                if item in word_dic:\n",
    "                    temp_vec += np.array(word_dic[item], dtype=np.float64)\n",
    "                else:\n",
    "                    continue\n",
    "            result_dic[line['id']] = [temp_vec/length]\n",
    "        else:\n",
    "            result_dic[line['id']] = [temp_vec]\n",
    "        \n",
    "        temp_vec = np.zeros(dim)\n",
    "        title_ = line['title'].split(' ')\n",
    "        length = len(title_)\n",
    "        for item in title_:\n",
    "            if item == '':\n",
    "                    continue\n",
    "            if item[0] in punc:\n",
    "                item = item[1:]\n",
    "            if item == '':\n",
    "                    continue\n",
    "            if item[-1] in punc:\n",
    "                item = item[:-1]\n",
    "                \n",
    "            if item in word_dic:\n",
    "                temp_vec += np.array(word_dic[item], dtype=np.float64)\n",
    "            else:\n",
    "                continue\n",
    "        result_dic[line['id']].append(temp_vec/length)\n",
    "        \n",
    "        line = f.readline()"
   ]
  },
  {
   "cell_type": "code",
   "execution_count": 7,
   "metadata": {},
   "outputs": [],
   "source": [
    "\n",
    "def load_word2vec(dim):\n",
    "    word_dic = {}\n",
    "    with open('/Users/zhengwei/Desktop/glove/glove.6B.'+ str(dim) + 'd.txt') as f:\n",
    "        line = f.readline()\n",
    "        while line:\n",
    "            line = line[:-1].split(' ')\n",
    "            word_dic[line[0]] = line[1:]\n",
    "            line = f.readline()\n",
    "    return word_dic"
   ]
  },
  {
   "cell_type": "code",
   "execution_count": 1,
   "metadata": {},
   "outputs": [],
   "source": [
    "import pickle\n",
    "\n",
    "def write_in_pickle(data, path):\n",
    "    output = open(path, 'wb')\n",
    "    pickle.dump(data, output)\n",
    "    output.close()\n",
    "\n",
    "def load_pickle(path):\n",
    "    pkl_file = open(path, 'rb')\n",
    "    data = pickle.load(pkl_file)\n",
    "    pkl_file.close()\n",
    "    return data"
   ]
  },
  {
   "cell_type": "code",
   "execution_count": 9,
   "metadata": {},
   "outputs": [],
   "source": [
    "write_in_pickle(result_dic)"
   ]
  },
  {
   "cell_type": "code",
   "execution_count": 1,
   "metadata": {},
   "outputs": [],
   "source": [
    "### Task 2\n",
    "\n",
    "import json\n",
    "\n",
    "author_dic = {}\n",
    "with open('/Users/zhengwei/Desktop/lesson6/社交网络挖掘/dataset/dblp-ref-0.json', 'r') as f:\n",
    "    line = f.readline()\n",
    "    while line:  \n",
    "        line = json.loads(line)\n",
    "        author_list = line['authors']\n",
    "        for i in range(len(author_list)):\n",
    "            main_author = author_list[i]\n",
    "            if main_author not in author_dic:\n",
    "                author_dic[main_author] = {}\n",
    "            coo_author = author_list[:i] + author_list[i+1:]\n",
    "            for author in coo_author:\n",
    "                if author not in author_dic[main_author]:\n",
    "                    author_dic[main_author][author] = 1\n",
    "                else:\n",
    "                    author_dic[main_author][author] += 1\n",
    "        line = f.readline()"
   ]
  },
  {
   "cell_type": "code",
   "execution_count": 13,
   "metadata": {},
   "outputs": [],
   "source": [
    "write_in_pickle(author_dic, '/Users/zhengwei/Desktop/coo_author.pkl')"
   ]
  },
  {
   "cell_type": "code",
   "execution_count": 3,
   "metadata": {},
   "outputs": [],
   "source": [
    "data = load_pickle('/Users/zhengwei/Desktop/coo_author.pkl')"
   ]
  },
  {
   "cell_type": "code",
   "execution_count": 4,
   "metadata": {},
   "outputs": [
    {
     "data": {
      "text/plain": [
       "{'Graeme Earl': 1, 'Ian Dawson': 1, 'Louisa Minkin': 1, 'Nicole Beale': 1}"
      ]
     },
     "execution_count": 4,
     "metadata": {},
     "output_type": "execute_result"
    }
   ],
   "source": [
    "data['Gareth Beale']"
   ]
  },
  {
   "cell_type": "code",
   "execution_count": null,
   "metadata": {},
   "outputs": [],
   "source": []
  }
 ],
 "metadata": {
  "kernelspec": {
   "display_name": "Python 3",
   "language": "python",
   "name": "python3"
  },
  "language_info": {
   "codemirror_mode": {
    "name": "ipython",
    "version": 3
   },
   "file_extension": ".py",
   "mimetype": "text/x-python",
   "name": "python",
   "nbconvert_exporter": "python",
   "pygments_lexer": "ipython3",
   "version": "3.6.4"
  }
 },
 "nbformat": 4,
 "nbformat_minor": 2
}
