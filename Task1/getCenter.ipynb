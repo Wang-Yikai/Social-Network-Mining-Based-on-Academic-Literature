{
 "cells": [
  {
   "cell_type": "code",
   "execution_count": 14,
   "metadata": {},
   "outputs": [
    {
     "name": "stdout",
     "output_type": "stream",
     "text": [
      "Article\n",
      "Author\n"
     ]
    }
   ],
   "source": [
    "import os\n",
    "import networkx as nx\n",
    "import re\n",
    "import json\n",
    "import pickle\n",
    "\n",
    "net_dir = 'all_conf.txt'\n",
    "all_info = {}\n",
    "\n",
    "id2num_file = 'id2num.txt'\n",
    "num2id = {}\n",
    "id2num = {}\n",
    "with open(id2num_file, 'r') as f:\n",
    "    line = f.readline()\n",
    "    while line:\n",
    "        para = line.strip().split(' ')\n",
    "        num2id[int(para[1])] = para[0]\n",
    "        id2num[para[0]] = int(para[1])\n",
    "        line = f.readline()\n",
    "\n",
    "i = 0\n",
    "G = nx.DiGraph()\n",
    "scholar_dict = {}\n",
    "score = {}\n",
    "# 计算文章重要性\n",
    "print(\"Article\")\n",
    "with open(net_dir, 'r') as reader:\n",
    "    line = reader.readline()\n",
    "    while line:\n",
    "        line_dic = eval(line)\n",
    "        id = line_dic['id']\n",
    "        references = []\n",
    "        if 'references' in line_dic.keys():\n",
    "            references = line_dic['references']\n",
    "        if references != []:\n",
    "            for reference in references:\n",
    "                G.add_edge(id,reference)\n",
    "        line = reader.readline()\n",
    "    score = nx.pagerank(G)\n",
    "    out = open('./PageRank/PageRank_score.json', 'w', encoding='utf-8')\n",
    "    json.dump(score, out)\n",
    "    out.close()\n",
    "print(\"Author\")\n",
    "with open(net_dir) as reader:\n",
    "    line = reader.readline()\n",
    "    while line:\n",
    "        line_dic = eval(line)\n",
    "        id = line_dic['id']\n",
    "        authors = line_dic['authors']\n",
    "        nid = id2num[id]\n",
    "        if nid <= 12308:\n",
    "            tag = 'Distributed & Parallel Computing'\n",
    "        elif nid <= 29508:\n",
    "            tag = 'Machine Learning'\n",
    "        elif nid <= 47962:\n",
    "            tag = 'Data Mining'\n",
    "        elif nid <= 53586:\n",
    "            tag = 'Computer Education'\n",
    "        elif nid <= 65480:\n",
    "            tag = 'Natural Language Processing'\n",
    "        else:\n",
    "            tag = 'Operating Systems / Simulations'\n",
    "        line = reader.readline()\n",
    "        for author in authors:\n",
    "            if id not in score.keys():\n",
    "                continue\n",
    "            if author in scholar_dict.keys():\n",
    "                scholar_dict[author][0] += score[id]\n",
    "                if tag in scholar_dict[author][1].keys():\n",
    "                    scholar_dict[author][1][tag] += 1\n",
    "                else:\n",
    "                    scholar_dict[author][1][tag] = 1\n",
    "            else:\n",
    "                scholar_dict[author] = [score[id], {tag: 1}]\n",
    "        line = reader.readline()\n",
    "\n",
    "highrank = sorted(scholar_dict.items(),key=lambda item: item[1][0], reverse=True)[:20]\n",
    "highrankname = []\n",
    "for i in highrank:\n",
    "    highrankname.append(i[0])"
   ]
  },
  {
   "cell_type": "code",
   "execution_count": 15,
   "metadata": {},
   "outputs": [
    {
     "name": "stdout",
     "output_type": "stream",
     "text": [
      "Draw\n",
      "draw one node\n",
      "draw one node\n",
      "draw one node\n",
      "draw one node\n",
      "draw one node\n",
      "draw one node\n",
      "draw one node\n",
      "draw one node\n",
      "draw one node\n",
      "draw one node\n",
      "draw one node\n",
      "draw one node\n",
      "draw one node\n",
      "draw one node\n",
      "draw one node\n",
      "draw one node\n",
      "draw one node\n",
      "draw one node\n",
      "draw one node\n"
     ]
    }
   ],
   "source": [
    "nodes = {}\n",
    "link = []\n",
    "cat2num = {'Natural Language Processing':0,'Distributed & Parallel Computing':1, \n",
    "              'Machine Learning':2,'Data Mining':3,'Computer Education':4,\n",
    "              'Operating Systems / Simulations':5}\n",
    "print(\"Draw\")\n",
    "with open(net_dir) as reader:\n",
    "    line = reader.readline()\n",
    "    while line:\n",
    "        line_dic = eval(line)\n",
    "        id = line_dic['id']\n",
    "        authors = line_dic['authors']\n",
    "        for i in authors:\n",
    "            if i in highrankname:\n",
    "                if i not in nodes.keys():\n",
    "                    print(\"draw one node\")\n",
    "                    nodes[i] = {'name': i,'value':scholar_dict[i][0]*10**5,  \"symbolSize\": int(scholar_dict[i][0]*10**5 /3 ) if scholar_dict[i][0]*10**5 > 1 else 1, 'category': cat2num[sorted(scholar_dict[i][1].items(),key=lambda item: item[1], reverse=True)[0][0]]}\n",
    "                #au_copy = authors\n",
    "                for j in authors:\n",
    "                    if j not in nodes.keys() and j in scholar_dict.keys():\n",
    "                        nodes[j] = {'name': j,'value': scholar_dict[j][0]*10**5, \"symbolSize\": int(scholar_dict[i][0]*10**5 /3 ) if scholar_dict[i][0]*10**5 > 1 else 1 , 'category':cat2num[sorted(scholar_dict[j][1].items(), key=lambda item: item[1], reverse=True)[0][0]]}\n",
    "                    if j in nodes.keys():\n",
    "                        link.append({'source': i, 'target':j})\n",
    "        line = reader.readline()\n",
    "nodes = [x[1] for x in nodes.items()]"
   ]
  },
  {
   "cell_type": "code",
   "execution_count": 16,
   "metadata": {},
   "outputs": [
    {
     "name": "stdout",
     "output_type": "stream",
     "text": [
      "Gnerate the Website\n"
     ]
    }
   ],
   "source": [
    "categories = ['Natural Language Processing','Distributed & Parallel Computing', \n",
    "              'Machine Learning','Data Mining','Computer Education',\n",
    "              'Operating Systems / Simulations']\n",
    "def formatter(params):\n",
    "    return 'Effectiveness of '+params.name+': '+params.symbolSize\n",
    "\n",
    "print(\"Gnerate the Website\")\n",
    "from pyecharts import Graph\n",
    "graph = Graph(\"Academic partnership\",width=1200, height=800)\n",
    "graph.add(\"\", nodes, link, categories ,label_pos=\"right\",\n",
    "          graph_repulsion=50, is_legend_show=False,\n",
    "          line_curve=0.2, label_text_color=None,\n",
    "              tooltip_formatter=formatter)\n",
    "graph.render()"
   ]
  },
  {
   "cell_type": "code",
   "execution_count": 8,
   "metadata": {},
   "outputs": [
    {
     "name": "stdout",
     "output_type": "stream",
     "text": [
      "[{'name': 'Michael J. Collins', 'symbolSize': 19, 'category': 0}, {'name': 'Salim Roukos', 'symbolSize': 16, 'category': 0}, {'name': 'Stephen Della Pietra', 'symbolSize': 16, 'category': 0}, {'name': 'Mark Epstein', 'symbolSize': 16, 'category': 0}, {'name': 'Todd Ward', 'symbolSize': 16, 'category': 0}, {'name': 'Fernando Pereira', 'symbolSize': 24, 'category': 0}, {'name': 'Ido Dagan', 'symbolSize': 24, 'category': 0}, {'name': 'Lillian Lee', 'symbolSize': 24, 'category': 0}, {'name': 'Christopher D. Manning', 'symbolSize': 29, 'category': 0}, {'name': 'Jenny Rose Finkel', 'symbolSize': 29, 'category': 0}]\n",
      "[{'source': 'Michael J. Collins', 'target': 'Michael J. Collins'}, {'source': 'Salim Roukos', 'target': 'Stephen Della Pietra'}, {'source': 'Salim Roukos', 'target': 'Mark Epstein'}, {'source': 'Salim Roukos', 'target': 'Salim Roukos'}, {'source': 'Salim Roukos', 'target': 'Todd Ward'}, {'source': 'Fernando Pereira', 'target': 'Ido Dagan'}, {'source': 'Fernando Pereira', 'target': 'Fernando Pereira'}, {'source': 'Fernando Pereira', 'target': 'Lillian Lee'}, {'source': 'Christopher D. Manning', 'target': 'Jenny Rose Finkel'}, {'source': 'Christopher D. Manning', 'target': 'Christopher D. Manning'}]\n"
     ]
    }
   ],
   "source": [
    "print(nodes[:10])\n",
    "print(link[:10]) "
   ]
  },
  {
   "cell_type": "code",
   "execution_count": 28,
   "metadata": {},
   "outputs": [
    {
     "name": "stdout",
     "output_type": "stream",
     "text": [
      "7169\n",
      "1955\n"
     ]
    }
   ],
   "source": [
    "print(len(link))\n",
    "print(len(nodes))"
   ]
  },
  {
   "cell_type": "code",
   "execution_count": null,
   "metadata": {
    "collapsed": true
   },
   "outputs": [],
   "source": []
  }
 ],
 "metadata": {
  "kernelspec": {
   "display_name": "Python 3",
   "language": "python",
   "name": "python3"
  },
  "language_info": {
   "codemirror_mode": {
    "name": "ipython",
    "version": 3
   },
   "file_extension": ".py",
   "mimetype": "text/x-python",
   "name": "python",
   "nbconvert_exporter": "python",
   "pygments_lexer": "ipython3",
   "version": "3.6.1"
  }
 },
 "nbformat": 4,
 "nbformat_minor": 2
}
