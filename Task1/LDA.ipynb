{
 "cells": [
  {
   "cell_type": "code",
   "execution_count": null,
   "metadata": {
    "collapsed": true
   },
   "outputs": [],
   "source": [
    "import os\n",
    "import nltk\n",
    "import math\n",
    "import string\n",
    "from collections import Counter\n",
    "from nltk.corpus import stopwords\n",
    "from nltk.stem import WordNetLemmatizer\n",
    "import re\n",
    "\n",
    "# 遍历获取文件夹下的文件路径\n",
    "def traverse(root):\n",
    "    pathDir = os.listdir(root)\n",
    "    childs = []\n",
    "    for allDir in pathDir:\n",
    "        childs.append(os.path.join('%s%s' % (root, allDir)))\n",
    "    return childs\n",
    "\n",
    "# 小写，去标点，分词，去停用词  返回单词\n",
    "def get_words(text):\n",
    "    lowers = text.lower()\n",
    "    words = nltk.word_tokenize(lowers)\n",
    "    return words\n",
    "\n",
    "### 跟目录要改\n",
    "root_dir ='./clusters_kmeans_nrl/'\n",
    "childs = traverse(root_dir)\n",
    "corpus = []\n",
    "for child in childs:\n",
    "    #out.write(\"In cluster %s:\\n\"%re.findall('[0-9][0-9]*',child)[0])\n",
    "    with open(child,'r',encoding='utf-8') as reader:\n",
    "        # corpus = ''\n",
    "        line = reader.readline()\n",
    "        while line:\n",
    "            line_dic = eval(line)\n",
    "            title = line_dic['title']+' '\n",
    "            # version1.0 缺失值处理方法：全部舍弃\n",
    "            abstract = ''\n",
    "            if 'abstract' in line_dic.keys():\n",
    "                abstract = line_dic['abstract']+' '\n",
    "            corpus.append(title+abstract)\n",
    "            line = reader.readline()\n",
    "#pre_words = get_words(corpus, del_type)\n",
    "#count = Counter(pre_words)"
   ]
  },
  {
   "cell_type": "code",
   "execution_count": 5,
   "metadata": {
    "collapsed": true
   },
   "outputs": [],
   "source": [
    "from sklearn.feature_extraction.text import TfidfVectorizer, CountVectorizer\n",
    "n_features = 1000\n",
    "tf_vectorizer = CountVectorizer(strip_accents = 'unicode',\n",
    "                                max_features=n_features,\n",
    "                                stop_words='english',\n",
    "                                max_df = 0.5,\n",
    "                                min_df = 10)\n",
    "tf = tf_vectorizer.fit_transform(corpus)"
   ]
  },
  {
   "cell_type": "code",
   "execution_count": 6,
   "metadata": {},
   "outputs": [
    {
     "data": {
      "text/plain": [
       "LatentDirichletAllocation(batch_size=128, doc_topic_prior=None,\n",
       "             evaluate_every=-1, learning_decay=0.7,\n",
       "             learning_method='online', learning_offset=50.0,\n",
       "             max_doc_update_iter=100, max_iter=50, mean_change_tol=0.001,\n",
       "             n_jobs=1, n_topics=5, perp_tol=0.1, random_state=0,\n",
       "             topic_word_prior=None, total_samples=1000000.0, verbose=0)"
      ]
     },
     "execution_count": 6,
     "metadata": {},
     "output_type": "execute_result"
    }
   ],
   "source": [
    "from sklearn.decomposition import LatentDirichletAllocation\n",
    "n_topics = 6\n",
    "lda = LatentDirichletAllocation(n_topics=n_topics, max_iter=50,\n",
    "                                learning_method='online',\n",
    "                                learning_offset=50.,\n",
    "                                random_state=0)\n",
    "lda.fit(tf)"
   ]
  },
  {
   "cell_type": "code",
   "execution_count": 9,
   "metadata": {},
   "outputs": [
    {
     "name": "stdout",
     "output_type": "stream",
     "text": [
      "Topic #0:\n",
      "time web knowledge based process\n",
      "Topic #1:\n",
      "study using modeling language evaluation\n",
      "Topic #2:\n",
      "using based learning algorithm control\n",
      "Topic #3:\n",
      "analysis information data networks network\n",
      "Topic #4:\n",
      "based speech applications model method\n",
      "\n"
     ]
    }
   ],
   "source": [
    "def print_top_words(model, feature_names, n_top_words):\n",
    "    for topic_idx, topic in enumerate(model.components_):\n",
    "        print(\"Topic #%d:\" % topic_idx)\n",
    "        print(\" \".join([feature_names[i]\n",
    "                        for i in topic.argsort()[:-n_top_words - 1:-1]]))\n",
    "    print()\n",
    "\n",
    "n_top_words = 5\n",
    "tf_feature_names = tf_vectorizer.get_feature_names()\n",
    "print_top_words(lda, tf_feature_names, n_top_words)\n",
    "\n"
   ]
  }
 ],
 "metadata": {
  "kernelspec": {
   "display_name": "Python 3",
   "language": "python",
   "name": "python3"
  },
  "language_info": {
   "codemirror_mode": {
    "name": "ipython",
    "version": 3
   },
   "file_extension": ".py",
   "mimetype": "text/x-python",
   "name": "python",
   "nbconvert_exporter": "python",
   "pygments_lexer": "ipython3",
   "version": "3.6.1"
  }
 },
 "nbformat": 4,
 "nbformat_minor": 2
}
